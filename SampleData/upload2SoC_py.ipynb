{
 "cells": [
  {
   "cell_type": "code",
   "execution_count": 12,
   "metadata": {},
   "outputs": [],
   "source": [
    "import requests"
   ]
  },
  {
   "cell_type": "code",
   "execution_count": 13,
   "metadata": {},
   "outputs": [
    {
     "name": "stdout",
     "output_type": "stream",
     "text": [
      "ok\n",
      "Connected!\n"
     ]
    }
   ],
   "source": [
    "url = 'http://192.168.3.1:9092/tx'\n",
    "myobj = {'somekey': 'somevalue'}\n",
    "\n",
    "f = {'file': open('tx.mat', 'rb')}\n",
    "x = requests.post(url, files = f)\n",
    "\n",
    "if x.ok:\n",
    "    print(x.text)\n",
    "    print(\"Connected!\")\n",
    "else:\n",
    "    print(\"Something went wrong!\")\n"
   ]
  }
 ],
 "metadata": {
  "interpreter": {
   "hash": "0600588c3b5f4418cbe7b5ebc6825b479f3bc010269d8b60d75058cdd010adfe"
  },
  "kernelspec": {
   "display_name": "Python 3.7.5 64-bit",
   "language": "python",
   "name": "python3"
  },
  "language_info": {
   "codemirror_mode": {
    "name": "ipython",
    "version": 3
   },
   "file_extension": ".py",
   "mimetype": "text/x-python",
   "name": "python",
   "nbconvert_exporter": "python",
   "pygments_lexer": "ipython3",
   "version": "3.7.5"
  },
  "orig_nbformat": 4
 },
 "nbformat": 4,
 "nbformat_minor": 2
}
