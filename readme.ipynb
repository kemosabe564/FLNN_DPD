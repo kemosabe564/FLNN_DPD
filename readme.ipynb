{
 "cells": [
  {
   "cell_type": "markdown",
   "metadata": {},
   "source": [
    "# step\n",
    "## 开始\n",
    "### 1. 可以先开示波器\n",
    "### 2. 上电,开jupyter run all, 等个一两分钟不到，有输出了就可以了， 看到FPGA侧面的白灯灭了\n",
    "\n",
    "## 关机\n",
    "### 1. 先tx_disable, 示波器应该没有输入了\n",
    "### 2. 转到jupyter命令行, poweroff\n",
    "### 3. 一两分钟后jupyter就disconnected了，可以断电"
   ]
  }
 ],
 "metadata": {
  "language_info": {
   "name": "python"
  },
  "orig_nbformat": 4
 },
 "nbformat": 4,
 "nbformat_minor": 2
}
