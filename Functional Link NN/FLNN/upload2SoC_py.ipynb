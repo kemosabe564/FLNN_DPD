{
 "cells": [
  {
   "cell_type": "code",
   "execution_count": 1,
   "metadata": {},
   "outputs": [],
   "source": [
    "import requests"
   ]
  },
  {
   "cell_type": "code",
   "execution_count": 2,
   "metadata": {},
   "outputs": [],
   "source": [
    "def upload2SoC(url, file):\n",
    "    x = requests.post(url, files = file)\n",
    "\n",
    "    if x.ok:\n",
    "        print(x.text)\n",
    "        print(\"Connected!\")\n",
    "    else:\n",
    "        print(\"Something went wrong!\")\n",
    "    return\n",
    "\n",
    "def asdf():\n",
    "    print(\"ues\")\n",
    "    return"
   ]
  },
  {
   "cell_type": "code",
   "execution_count": 4,
   "metadata": {},
   "outputs": [],
   "source": [
    "if __name__ == '__main__':\n",
    "\n",
    "    url = 'http://192.168.3.1:9092/tx'\n",
    "    # f = {'file': open('tx.mat', 'rb')}\n",
    "\n",
    "    # upload2SoC(url, f)"
   ]
  }
 ],
 "metadata": {
  "interpreter": {
   "hash": "0600588c3b5f4418cbe7b5ebc6825b479f3bc010269d8b60d75058cdd010adfe"
  },
  "kernelspec": {
   "display_name": "Python 3.7.5 64-bit",
   "language": "python",
   "name": "python3"
  },
  "language_info": {
   "codemirror_mode": {
    "name": "ipython",
    "version": 3
   },
   "file_extension": ".py",
   "mimetype": "text/x-python",
   "name": "python",
   "nbconvert_exporter": "python",
   "pygments_lexer": "ipython3",
   "version": "3.7.5"
  },
  "orig_nbformat": 4
 },
 "nbformat": 4,
 "nbformat_minor": 2
}
