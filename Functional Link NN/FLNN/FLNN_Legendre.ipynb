{
 "cells": [
  {
   "cell_type": "code",
   "execution_count": 8,
   "metadata": {},
   "outputs": [],
   "source": [
    "import numpy as np\n",
    "import os\n",
    "import scipy.io\n"
   ]
  },
  {
   "cell_type": "code",
   "execution_count": 23,
   "metadata": {},
   "outputs": [],
   "source": [
    "## comtrol part\n",
    "MP_enable = 1\n",
    "GMP_enable = 1"
   ]
  },
  {
   "cell_type": "code",
   "execution_count": 25,
   "metadata": {},
   "outputs": [],
   "source": [
    "## loaidng data\n",
    "# we may have multiple iteration, specify it \n",
    "# variables names are the same as variables_name\n",
    "Iter = 0\n",
    "# in jupyter '../../SampleData/18_Nov_2021_11_31_16_+0100_itersdata.mat'\n",
    "# in normal python '/SampleData/18_Nov_2021_11_31_16_+0100_itersdata.mat'\n",
    "mat = scipy.io.loadmat('../../SampleData/18_Nov_2021_11_31_16_+0100_itersdata.mat')\n",
    "variables_name = ['Efficiency', 'ACPR', 'Power', 'NMSE', 'EVM', 'uBB_CFR', 'uBB', 'yBB', 'xBB' , 'y_simb']\n",
    "input_data = [mat['itersdata'][0]['Efficiency'],\n",
    "              mat['itersdata'][0]['ACPR'],\n",
    "              mat['itersdata'][0]['Power'],\n",
    "              mat['itersdata'][0]['NMSE'],\n",
    "              mat['itersdata'][0]['EVM'],\n",
    "              mat['itersdata'][0]['uBB_CFR'],\n",
    "              mat['itersdata'][0]['uBB'],\n",
    "              mat['itersdata'][0]['yBB'],\n",
    "              mat['itersdata'][0]['xBB'],\n",
    "              mat['itersdata'][0]['y_simb']\n",
    "              ]\n",
    "item = zip(variables_name, input_data)\n",
    "d = dict(item)\n",
    "create_var = locals()\n",
    "create_var.update(d)"
   ]
  },
  {
   "cell_type": "code",
   "execution_count": 26,
   "metadata": {},
   "outputs": [],
   "source": [
    "## Memory Polynomial\n",
    "def MemoryPolynomial(uBB, M, P):\n",
    "    i=0\n",
    "    U = np.zeros((len(uBB), (M+1)*(P+1)), dtype=complex)\n",
    "    for m in range(0, M+1):\n",
    "        for p in range(0, P+1):\n",
    "            # U[:, i] = np.ones((len(uBB)), dtype=complex)\n",
    "            # a = (np.roll(uBB,m)*pow(abs(np.roll(uBB,m)),p))\n",
    "            U[:, [i]] = (np.roll(uBB,m)*pow(abs(np.roll(uBB,m)),p))\n",
    "            # print(a.shape)\n",
    "            # print(U[:, [i]].shape)\n",
    "            i = i+1\n",
    "    return U\n"
   ]
  },
  {
   "cell_type": "code",
   "execution_count": 24,
   "metadata": {},
   "outputs": [
    {
     "name": "stdout",
     "output_type": "stream",
     "text": [
      "(153600, 1)\n",
      "[[-0.00373479-0.03603652j]\n",
      " [-0.00315989-0.0358372j ]\n",
      " [-0.00261332-0.03545611j]\n",
      " ...\n",
      " [-0.00557567-0.03554832j]\n",
      " [-0.00494823-0.03589101j]\n",
      " [-0.00433273-0.0360542j ]]\n"
     ]
    }
   ],
   "source": [
    "## implement the MP\n",
    "if(MP_enable):\n",
    "    U = MemoryPolynomial(uBB[Iter], 5, 3)\n",
    "    w = np.dot(np.linalg.pinv(U), yBB[Iter])\n",
    "    # print(U)\n",
    "    # print(U.shape)\n",
    "    yest = np.dot(U, w)\n",
    "    print(yest.shape)\n",
    "    print(yest)"
   ]
  },
  {
   "cell_type": "code",
   "execution_count": null,
   "metadata": {},
   "outputs": [],
   "source": [
    "## implement the GMP\n"
   ]
  }
 ],
 "metadata": {
  "interpreter": {
   "hash": "4553942048ca5393efe24719eb191a683534e082de39d0c4c14bc584f0a5ea4b"
  },
  "kernelspec": {
   "display_name": "Python 3.7.2 64-bit",
   "language": "python",
   "name": "python3"
  },
  "language_info": {
   "codemirror_mode": {
    "name": "ipython",
    "version": 3
   },
   "file_extension": ".py",
   "mimetype": "text/x-python",
   "name": "python",
   "nbconvert_exporter": "python",
   "pygments_lexer": "ipython3",
   "version": "3.7.2"
  },
  "orig_nbformat": 4
 },
 "nbformat": 4,
 "nbformat_minor": 2
}
