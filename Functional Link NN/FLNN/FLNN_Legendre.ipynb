{
 "cells": [
  {
   "cell_type": "code",
   "execution_count": 33,
   "metadata": {},
   "outputs": [],
   "source": [
    "import scipy.io\n",
    "import import_ipynb\n",
    "\n",
    "import matplotlib.pyplot as plt\n",
    "import numpy as np\n",
    "\n",
    "from scipy import signal"
   ]
  },
  {
   "cell_type": "code",
   "execution_count": 34,
   "metadata": {},
   "outputs": [],
   "source": [
    "import upload2SoC_py"
   ]
  },
  {
   "cell_type": "code",
   "execution_count": 35,
   "metadata": {},
   "outputs": [],
   "source": [
    "## comtrol part\n",
    "MP_enable = 1\n",
    "GMP_enable = 1"
   ]
  },
  {
   "cell_type": "code",
   "execution_count": 36,
   "metadata": {},
   "outputs": [],
   "source": [
    "## loaidng data\n",
    "# we may have multiple iteration, specify it, variables names are the same as variables_name\n",
    "Iter = 0\n",
    "\n",
    "# in jupyter '../../SampleData/18_Nov_2021_11_31_16_+0100_itersdata.mat'\n",
    "# in normal python '/SampleData/18_Nov_2021_11_31_16_+0100_itersdata.mat'\n",
    "variables_name = ['Efficiency', 'ACPR', 'Power', 'NMSE', 'EVM', 'uBB_CFR', 'uBB', 'yBB', 'xBB' , 'y_simb']\n",
    "mat = scipy.io.loadmat('../../SampleData/18_Nov_2021_11_31_16_+0100_itersdata.mat')\n",
    "input_data = [mat['itersdata'][0]['Efficiency'],\n",
    "              mat['itersdata'][0]['ACPR'],\n",
    "              mat['itersdata'][0]['Power'],\n",
    "              mat['itersdata'][0]['NMSE'],\n",
    "              mat['itersdata'][0]['EVM'],\n",
    "              mat['itersdata'][0]['uBB_CFR'],\n",
    "              mat['itersdata'][0]['uBB'],\n",
    "              mat['itersdata'][0]['yBB'],\n",
    "              mat['itersdata'][0]['xBB'],\n",
    "              mat['itersdata'][0]['y_simb']\n",
    "              ]\n",
    "item = zip(variables_name, input_data)\n",
    "d = dict(item)\n",
    "create_var = locals()\n",
    "create_var.update(d)"
   ]
  },
  {
   "cell_type": "code",
   "execution_count": 37,
   "metadata": {},
   "outputs": [],
   "source": [
    "## Memory Polynomial\n",
    "def MemoryPolynomial(uBB, M, P):\n",
    "    i=0\n",
    "    U = np.zeros((len(uBB), (M+1)*(P+1)), dtype=complex)\n",
    "    for m in range(0, M+1):\n",
    "        for p in range(0, P+1):\n",
    "            # U[:, i] = np.ones((len(uBB)), dtype=complex)\n",
    "            # a = (np.roll(uBB,m)*pow(abs(np.roll(uBB,m)),p))\n",
    "            U[:, [i]] = (np.roll(uBB,m)*pow(abs(np.roll(uBB,m)),p))\n",
    "            # print(a.shape)\n",
    "            # print(U[:, [i]].shape)\n",
    "            i = i+1\n",
    "    return U\n"
   ]
  },
  {
   "cell_type": "code",
   "execution_count": 38,
   "metadata": {},
   "outputs": [
    {
     "name": "stdout",
     "output_type": "stream",
     "text": [
      "(153600, 1)\n",
      "(153600,)\n",
      "(153600,)\n"
     ]
    }
   ],
   "source": [
    "## implement the MP\n",
    "if(MP_enable):\n",
    "    U = MemoryPolynomial(uBB[Iter], 5, 3)\n",
    "    w = np.dot(np.linalg.pinv(U), yBB[Iter])\n",
    "    # print(U)\n",
    "    # print(U.shape)\n",
    "    yest = np.dot(U, w)\n",
    "    print(yest.shape)\n",
    "    yest.resize((153600, ))\n",
    "    print(yest.shape)\n",
    "\n",
    "y1 = yBB[Iter]\n",
    "y1.resize((153600, ))\n",
    "print(y1.shape)\n"
   ]
  },
  {
   "cell_type": "code",
   "execution_count": 39,
   "metadata": {},
   "outputs": [
    {
     "data": {
      "image/png": "[encoded data removed]",
      "text/plain": [
       "<Figure size 432x288 with 1 Axes>"
      ]
     },
     "metadata": {
      "needs_background": "light"
     },
     "output_type": "display_data"
    }
   ],
   "source": [
    "# def w2db(Pxx_den):\n",
    "#     for i in range(Pxx_den.size):\n",
    "#         Pxx_den[i] = 20*math.log10(Pxx_den[i])\n",
    "#     return Pxx_den\n",
    "\n",
    "fs = 200e6\n",
    "f, Pxx_den = signal.welch(y1, fs, return_onesided=False, nperseg=1024, scaling='spectrum')\n",
    "plt.semilogy(f/1e6, Pxx_den)\n",
    "\n",
    "f, Pxx_den = signal.welch(yest, fs, return_onesided=False, nperseg=1024, scaling='spectrum')\n",
    "plt.semilogy(f/1e6, Pxx_den)\n",
    "\n",
    "\n",
    "# # plt.ylim([0.5e-3, 1])\n",
    "plt.xlabel('frequency [MHz]')\n",
    "plt.ylabel('PSD [V**2/Hz]')\n",
    "plt.show()"
   ]
  },
  {
   "cell_type": "code",
   "execution_count": 40,
   "metadata": {},
   "outputs": [],
   "source": [
    "## implement the GMP\n",
    "def GMP(uBB, M, P, L):\n",
    "    a = 1\n",
    "    b = 1\n"
   ]
  }
 ],
 "metadata": {
  "interpreter": {
   "hash": "4553942048ca5393efe24719eb191a683534e082de39d0c4c14bc584f0a5ea4b"
  },
  "kernelspec": {
   "display_name": "Python 3.7.2 64-bit",
   "language": "python",
   "name": "python3"
  },
  "language_info": {
   "codemirror_mode": {
    "name": "ipython",
    "version": 3
   },
   "file_extension": ".py",
   "mimetype": "text/x-python",
   "name": "python",
   "nbconvert_exporter": "python",
   "pygments_lexer": "ipython3",
   "version": "3.7.5"
  },
  "orig_nbformat": 4
 },
 "nbformat": 4,
 "nbformat_minor": 2
}
