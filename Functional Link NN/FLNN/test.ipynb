{
 "cells": [
  {
   "cell_type": "code",
   "execution_count": 5,
   "metadata": {},
   "outputs": [],
   "source": [
    "import scipy.io\n",
    "import import_ipynb\n",
    "import math\n",
    "\n",
    "import matplotlib.pyplot as plt\n",
    "import numpy as np\n",
    "\n",
    "from scipy import signal\n",
    "\n"
   ]
  },
  {
   "cell_type": "code",
   "execution_count": 6,
   "metadata": {},
   "outputs": [],
   "source": [
    "from upload2SoC_py import *\n",
    "from generate import singal_DPD\n"
   ]
  },
  {
   "cell_type": "code",
   "execution_count": 7,
   "metadata": {},
   "outputs": [
    {
     "name": "stdout",
     "output_type": "stream",
     "text": [
      "[0.9388982 +0.34419495j 0.76305968+0.64632804j 0.49397251+0.86947752j ...\n",
      " 0.44361373-0.89621809j 0.72498187-0.68876795j 0.91775463-0.39714789j]\n",
      "ok\n",
      "Connected!\n"
     ]
    },
    {
     "data": {
      "image/png": "[encoded data removed]",
      "text/plain": [
       "<Figure size 432x288 with 1 Axes>"
      ]
     },
     "metadata": {
      "needs_background": "light"
     },
     "output_type": "display_data"
    }
   ],
   "source": [
    "if __name__ == '__main__':\n",
    "    url = 'http://192.168.3.1:9092/tx'\n",
    "\n",
    "    signal_dpd = singal_DPD()\n",
    "    x = signal_dpd.signal_setup()\n",
    "    print(x)\n",
    "\n",
    "\n",
    "    mat = scipy.io.loadmat('../../SampleData/tx.mat')\n",
    "\n",
    "    data = mat['ch1']\n",
    "    # print(mat['ch1'])\n",
    "    x.resize(data.shape)\n",
    "    mat['ch1'] = x\n",
    "    mat['ch2'] = x\n",
    "    # print(mat['ch1'])\n",
    "    scipy.io.savemat(\"../../SampleData/ready_tx.mat\", mat)\n",
    "\n",
    "    # # testing\n",
    "    # mat1 = scipy.io.loadmat('../../SampleData/tx_modify.mat')\n",
    "    # data1 = mat1['ch1']\n",
    "    # print(data1)\n",
    "\n",
    "    f = {'file': open('../../SampleData/ready_tx.mat', 'rb')}\n",
    "    upload2SoC(url, f)   \n",
    "\n",
    "\n",
    "    "
   ]
  }
 ],
 "metadata": {
  "interpreter": {
   "hash": "0600588c3b5f4418cbe7b5ebc6825b479f3bc010269d8b60d75058cdd010adfe"
  },
  "kernelspec": {
   "display_name": "Python 3.7.5 64-bit",
   "language": "python",
   "name": "python3"
  },
  "language_info": {
   "codemirror_mode": {
    "name": "ipython",
    "version": 3
   },
   "file_extension": ".py",
   "mimetype": "text/x-python",
   "name": "python",
   "nbconvert_exporter": "python",
   "pygments_lexer": "ipython3",
   "version": "3.7.5"
  },
  "orig_nbformat": 4
 },
 "nbformat": 4,
 "nbformat_minor": 2
}
